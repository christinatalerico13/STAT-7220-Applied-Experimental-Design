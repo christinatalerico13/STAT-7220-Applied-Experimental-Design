{
 "cells": [
  {
   "cell_type": "markdown",
   "id": "113fa272",
   "metadata": {},
   "source": [
    "# Instagram Ad Factorial Design Example\n",
    "## Dr Austin R Brown\n",
    "### School of Data Science and Analytics\n",
    "### Kennesaw State University\n",
    "\n",
    "\n",
    "## Introduction\n",
    "\n",
    "You work for a digital marketing agency. This agency wants to determine the effectiveness of two different types of Instagram ads on user engagement. They want to know if the ad format (image or video) and the ad content (funny or promotional) have an impact on the amount of time viewing the ad. To evaluate this, they recruit 100 participants and randomly assign them to one of the four conditions: image-funny, image-promotional, video-funny, or video-promotional. The participants are then asked to view the ad and the time they spend viewing the ad (in seconds) is recorded. The data are contained in the `Instagram Data.xlsx` file. With these data, I want you to:\n",
    "\n",
    "## Question 1: Briefly define the objective of this experiment\n",
    "\n",
    "## Question 2: Specify the outcome variable\n",
    "\n",
    "## Question 3: Specify the independent variables. What are some other possible lurking variables?\n",
    "\n",
    "## Question 4: State all of the pairs of null and alternative hypotheses for this experiment.\n",
    "\n",
    "## Question 5: Perform appropriate exploratory analysis, including data visualizations and summary statistics. Do the results of these analyses support the null or alternative hypotheses more strongly?\n",
    "\n",
    "## Question 6: Build a two-way ANOVA model including the two-way interaction. Test the assumption of normality using both a visual method and an inferential method. Do the results of the normality test(s) support the assumption of normality?\n",
    "\n",
    "## Question 7: Test the assumption of homogeneity of variance using both a visual method and an inferential method. Do the results of the test(s) support the assumption of homogeneity of variance?\n",
    "\n",
    "## Question 8: Report the F-statistic for the interaction effect and its associated p-value from the twoway ANOVA model. Which of our two hypotheses is more strongly supported? Why?\n",
    "\n",
    "## Question 9: Report the F-statistics for the main effects and their associated p-values from the twoway ANOVA model. Which of our two hypotheses is more strongly supported? Why?\n",
    "\n",
    "## Question 10: If the data more strongly support the alternative hypothesis in any of the above F-tests, perform Tukey’s HSD post-hoc test to determine which groups significantly different from each other. If the data more strongly support the null hypothesis, explain why a post-hoc test would not be appropriate.\n",
    "\n",
    "## Question 11: Write a brief conclusion summarizing the results of your analyses and include at least one potential limitation of the study."
   ]
  }
 ],
 "metadata": {
  "language_info": {
   "name": "python"
  }
 },
 "nbformat": 4,
 "nbformat_minor": 5
}
